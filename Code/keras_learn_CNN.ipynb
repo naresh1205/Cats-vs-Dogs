{
 "cells": [
  {
   "cell_type": "code",
   "execution_count": 5,
   "id": "intelligent-worry",
   "metadata": {},
   "outputs": [],
   "source": [
    "import numpy as np\n",
    "import tensorflow as tf\n",
    "from tensorflow import keras\n",
    "from tensorflow.keras.models import Sequential\n",
    "from tensorflow.keras.layers import Activation, Dense, Flatten, BatchNormalization, Conv2D, MaxPool2D\n",
    "from tensorflow.keras.optimizers import Adam\n",
    "from tensorflow.keras.metrics import categorical_crossentropy\n",
    "from tensorflow.keras.preprocessing.image import ImageDataGenerator\n",
    "from sklearn.metrics import confusion_matrix\n",
    "import itertools\n",
    "import os\n",
    "import shutil\n",
    "import random\n",
    "import glob\n",
    "import matplotlib.pyplot as plt\n",
    "import warnings\n",
    "warnings.simplefilter(action='ignore', category=FutureWarning)\n",
    "%matplotlib inline"
   ]
  },
  {
   "cell_type": "code",
   "execution_count": null,
   "id": "first-basement",
   "metadata": {},
   "outputs": [],
   "source": [
    "os.chdir('D:/Acads/Coding/Machine Learning/Keras/dogs-vs-cats')\n",
    "if os.path.isdir('train/dog') is False:\n",
    "    os.makedirs('train/dog')\n",
    "    os.makedirs('train/cat')\n",
    "    os.makedirs('valid/dog')\n",
    "    os.makedirs('valid/cat')\n",
    "    os.makedirs('test/dog')\n",
    "    os.makedirs('test/cat')\n",
    "    \n",
    "    for c in random.sample(glob.glob('train/cat*'), 500):\n",
    "        shutil.move(c, 'train/cat' )\n",
    "    for c in random.sample(glob.glob('train/dog*'), 500):\n",
    "        shutil.move(c, 'train/dog')\n",
    "    for c in random.sample(glob.glob('train/cat*'), 100):\n",
    "        shutil.move(c, 'valid/cat')\n",
    "    for c in random.sample(glob.glob('train/dog*'), 100):\n",
    "        shutil.move(c, 'valid/dog')\n",
    "    for c in random.sample(glob.glob('train/cat*'), 50):\n",
    "        shutil.move(c, 'test/cat')\n",
    "    for c in random.sample(glob.glob('train/dog*'), 50):\n",
    "        shutil.move(c, 'test/dog')"
   ]
  },
  {
   "cell_type": "code",
   "execution_count": 2,
   "id": "economic-offering",
   "metadata": {},
   "outputs": [],
   "source": [
    "train_path = 'D:/Acads/Coding/Machine Learning/Keras/dogs-vs-cats/train'\n",
    "valid_path = 'D:/Acads/Coding/Machine Learning/Keras/dogs-vs-cats/valid'\n",
    "test_path = 'D:/Acads/Coding/Machine Learning/Keras/dogs-vs-cats/test'"
   ]
  },
  {
   "cell_type": "code",
   "execution_count": null,
   "id": "classified-plane",
   "metadata": {},
   "outputs": [],
   "source": [
    "train_batches = ImageDataGenerator(preprocessing_function=tf.keras.applications.vgg16.preprocess_input) \\\n",
    "    .flow_from_directory(directory=train_path, target_size=(224,224), classes=['cat', 'dog'], batch_size=10)\n",
    "valid_batches = ImageDataGenerator(preprocessing_function=tf.keras.applications.vgg16.preprocess_input) \\\n",
    "    .flow_from_directory(directory=valid_path, target_size=(224,224), classes=['cat', 'dog'], batch_size=10)\n",
    "test_batches = ImageDataGenerator(preprocessing_function=tf.keras.applications.vgg16.preprocess_input) \\\n",
    "    .flow_from_directory(directory=test_path, target_size=(224,224), classes=['cat', 'dog'], batch_size=10, shuffle=False)"
   ]
  },
  {
   "cell_type": "code",
   "execution_count": null,
   "id": "afraid-district",
   "metadata": {},
   "outputs": [],
   "source": [
    "model = Sequential([\n",
    "    Conv2D(filters=32, kernel_size=(3, 3), activation='relu', padding='same', input_shape=(224,224, 3)),\n",
    "    MaxPool2D(pool_size=(2,2), strides=2),\n",
    "    Conv2D(filters=64, kernel_size=(3, 3), activation='relu', padding='same'),\n",
    "    MaxPool2D(pool_size=(2,2), strides=2),\n",
    "    Flatten(),\n",
    "    Dense(units=2, activation='softmax')\n",
    "])"
   ]
  },
  {
   "cell_type": "code",
   "execution_count": 32,
   "id": "practical-mystery",
   "metadata": {},
   "outputs": [
    {
     "name": "stdout",
     "output_type": "stream",
     "text": [
      "Model: \"sequential_1\"\n",
      "_________________________________________________________________\n",
      "Layer (type)                 Output Shape              Param #   \n",
      "=================================================================\n",
      "conv2d_2 (Conv2D)            (None, 224, 224, 32)      896       \n",
      "_________________________________________________________________\n",
      "max_pooling2d_2 (MaxPooling2 (None, 112, 112, 32)      0         \n",
      "_________________________________________________________________\n",
      "conv2d_3 (Conv2D)            (None, 112, 112, 64)      18496     \n",
      "_________________________________________________________________\n",
      "max_pooling2d_3 (MaxPooling2 (None, 56, 56, 64)        0         \n",
      "_________________________________________________________________\n",
      "flatten_1 (Flatten)          (None, 200704)            0         \n",
      "_________________________________________________________________\n",
      "dense_1 (Dense)              (None, 2)                 401410    \n",
      "=================================================================\n",
      "Total params: 420,802\n",
      "Trainable params: 420,802\n",
      "Non-trainable params: 0\n",
      "_________________________________________________________________\n"
     ]
    }
   ],
   "source": [
    "model.summary()"
   ]
  },
  {
   "cell_type": "code",
   "execution_count": null,
   "id": "bibliographic-banking",
   "metadata": {},
   "outputs": [],
   "source": [
    "model.compile(optimizer=Adam(learning_rate=0.0001), loss='categorical_crossentropy', metrics=['accuracy'])"
   ]
  },
  {
   "cell_type": "code",
   "execution_count": 37,
   "id": "golden-guarantee",
   "metadata": {},
   "outputs": [
    {
     "name": "stdout",
     "output_type": "stream",
     "text": [
      "Epoch 1/10\n",
      "100/100 - 44s - loss: 4.8253e-04 - accuracy: 1.0000 - val_loss: 3.2677 - val_accuracy: 0.5800\n",
      "Epoch 2/10\n",
      "100/100 - 50s - loss: 4.3380e-04 - accuracy: 1.0000 - val_loss: 3.2634 - val_accuracy: 0.5800\n",
      "Epoch 3/10\n",
      "100/100 - 47s - loss: 3.9281e-04 - accuracy: 1.0000 - val_loss: 3.2701 - val_accuracy: 0.5800\n",
      "Epoch 4/10\n",
      "100/100 - 48s - loss: 3.5623e-04 - accuracy: 1.0000 - val_loss: 3.2640 - val_accuracy: 0.5800\n",
      "Epoch 5/10\n",
      "100/100 - 48s - loss: 3.2594e-04 - accuracy: 1.0000 - val_loss: 3.2663 - val_accuracy: 0.5800\n",
      "Epoch 6/10\n",
      "100/100 - 49s - loss: 2.9940e-04 - accuracy: 1.0000 - val_loss: 3.2757 - val_accuracy: 0.5900\n",
      "Epoch 7/10\n",
      "100/100 - 46s - loss: 2.7743e-04 - accuracy: 1.0000 - val_loss: 3.2770 - val_accuracy: 0.5850\n",
      "Epoch 8/10\n",
      "100/100 - 47s - loss: 2.5545e-04 - accuracy: 1.0000 - val_loss: 3.2703 - val_accuracy: 0.5850\n",
      "Epoch 9/10\n",
      "100/100 - 45s - loss: 2.3799e-04 - accuracy: 1.0000 - val_loss: 3.2716 - val_accuracy: 0.5850\n",
      "Epoch 10/10\n",
      "100/100 - 45s - loss: 2.2064e-04 - accuracy: 1.0000 - val_loss: 3.2793 - val_accuracy: 0.5950\n"
     ]
    },
    {
     "data": {
      "text/plain": [
       "<tensorflow.python.keras.callbacks.History at 0x1bdf1a3c700>"
      ]
     },
     "execution_count": 37,
     "metadata": {},
     "output_type": "execute_result"
    }
   ],
   "source": [
    "model.fit(x=train_batches, validation_data=valid_batches, epochs=10, verbose=2)"
   ]
  },
  {
   "cell_type": "code",
   "execution_count": 42,
   "id": "finished-butler",
   "metadata": {},
   "outputs": [],
   "source": [
    "predictions = model.predict(x=test_batches, verbose=0)"
   ]
  },
  {
   "cell_type": "code",
   "execution_count": 43,
   "id": "northern-platinum",
   "metadata": {},
   "outputs": [
    {
     "data": {
      "text/plain": [
       "array([[1., 0.],\n",
       "       [1., 0.],\n",
       "       [1., 0.],\n",
       "       [1., 0.],\n",
       "       [1., 0.],\n",
       "       [1., 0.],\n",
       "       [1., 0.],\n",
       "       [0., 1.],\n",
       "       [1., 0.],\n",
       "       [1., 0.],\n",
       "       [0., 1.],\n",
       "       [1., 0.],\n",
       "       [1., 0.],\n",
       "       [1., 0.],\n",
       "       [1., 0.],\n",
       "       [0., 1.],\n",
       "       [0., 1.],\n",
       "       [1., 0.],\n",
       "       [1., 0.],\n",
       "       [1., 0.],\n",
       "       [1., 0.],\n",
       "       [1., 0.],\n",
       "       [0., 1.],\n",
       "       [1., 0.],\n",
       "       [0., 1.],\n",
       "       [0., 1.],\n",
       "       [1., 0.],\n",
       "       [0., 1.],\n",
       "       [1., 0.],\n",
       "       [1., 0.],\n",
       "       [1., 0.],\n",
       "       [1., 0.],\n",
       "       [1., 0.],\n",
       "       [1., 0.],\n",
       "       [0., 1.],\n",
       "       [1., 0.],\n",
       "       [0., 1.],\n",
       "       [1., 0.],\n",
       "       [1., 0.],\n",
       "       [1., 0.],\n",
       "       [1., 0.],\n",
       "       [1., 0.],\n",
       "       [1., 0.],\n",
       "       [0., 1.],\n",
       "       [1., 0.],\n",
       "       [0., 1.],\n",
       "       [1., 0.],\n",
       "       [1., 0.],\n",
       "       [0., 1.],\n",
       "       [1., 0.],\n",
       "       [1., 0.],\n",
       "       [0., 1.],\n",
       "       [0., 1.],\n",
       "       [1., 0.],\n",
       "       [0., 1.],\n",
       "       [0., 1.],\n",
       "       [1., 0.],\n",
       "       [0., 1.],\n",
       "       [0., 1.],\n",
       "       [0., 1.],\n",
       "       [1., 0.],\n",
       "       [0., 1.],\n",
       "       [0., 1.],\n",
       "       [0., 1.],\n",
       "       [0., 1.],\n",
       "       [1., 0.],\n",
       "       [1., 0.],\n",
       "       [1., 0.],\n",
       "       [1., 0.],\n",
       "       [1., 0.],\n",
       "       [0., 1.],\n",
       "       [0., 1.],\n",
       "       [0., 1.],\n",
       "       [0., 1.],\n",
       "       [1., 0.],\n",
       "       [0., 1.],\n",
       "       [0., 1.],\n",
       "       [0., 1.],\n",
       "       [1., 0.],\n",
       "       [0., 1.],\n",
       "       [0., 1.],\n",
       "       [1., 0.],\n",
       "       [0., 1.],\n",
       "       [0., 1.],\n",
       "       [1., 0.],\n",
       "       [1., 0.],\n",
       "       [0., 1.],\n",
       "       [0., 1.],\n",
       "       [0., 1.],\n",
       "       [1., 0.],\n",
       "       [0., 1.],\n",
       "       [0., 1.],\n",
       "       [1., 0.],\n",
       "       [1., 0.],\n",
       "       [0., 1.],\n",
       "       [1., 0.],\n",
       "       [0., 1.],\n",
       "       [0., 1.],\n",
       "       [0., 1.],\n",
       "       [1., 0.]], dtype=float32)"
      ]
     },
     "execution_count": 43,
     "metadata": {},
     "output_type": "execute_result"
    }
   ],
   "source": [
    "np.round(predictions)"
   ]
  },
  {
   "cell_type": "code",
   "execution_count": 6,
   "id": "parental-latitude",
   "metadata": {},
   "outputs": [],
   "source": [
    "vgg16_model = tf.keras.applications.vgg16.VGG16()"
   ]
  },
  {
   "cell_type": "code",
   "execution_count": 9,
   "id": "corporate-piano",
   "metadata": {},
   "outputs": [
    {
     "name": "stdout",
     "output_type": "stream",
     "text": [
      "Model: \"vgg16\"\n",
      "_________________________________________________________________\n",
      "Layer (type)                 Output Shape              Param #   \n",
      "=================================================================\n",
      "input_2 (InputLayer)         [(None, 224, 224, 3)]     0         \n",
      "_________________________________________________________________\n",
      "block1_conv1 (Conv2D)        (None, 224, 224, 64)      1792      \n",
      "_________________________________________________________________\n",
      "block1_conv2 (Conv2D)        (None, 224, 224, 64)      36928     \n",
      "_________________________________________________________________\n",
      "block1_pool (MaxPooling2D)   (None, 112, 112, 64)      0         \n",
      "_________________________________________________________________\n",
      "block2_conv1 (Conv2D)        (None, 112, 112, 128)     73856     \n",
      "_________________________________________________________________\n",
      "block2_conv2 (Conv2D)        (None, 112, 112, 128)     147584    \n",
      "_________________________________________________________________\n",
      "block2_pool (MaxPooling2D)   (None, 56, 56, 128)       0         \n",
      "_________________________________________________________________\n",
      "block3_conv1 (Conv2D)        (None, 56, 56, 256)       295168    \n",
      "_________________________________________________________________\n",
      "block3_conv2 (Conv2D)        (None, 56, 56, 256)       590080    \n",
      "_________________________________________________________________\n",
      "block3_conv3 (Conv2D)        (None, 56, 56, 256)       590080    \n",
      "_________________________________________________________________\n",
      "block3_pool (MaxPooling2D)   (None, 28, 28, 256)       0         \n",
      "_________________________________________________________________\n",
      "block4_conv1 (Conv2D)        (None, 28, 28, 512)       1180160   \n",
      "_________________________________________________________________\n",
      "block4_conv2 (Conv2D)        (None, 28, 28, 512)       2359808   \n",
      "_________________________________________________________________\n",
      "block4_conv3 (Conv2D)        (None, 28, 28, 512)       2359808   \n",
      "_________________________________________________________________\n",
      "block4_pool (MaxPooling2D)   (None, 14, 14, 512)       0         \n",
      "_________________________________________________________________\n",
      "block5_conv1 (Conv2D)        (None, 14, 14, 512)       2359808   \n",
      "_________________________________________________________________\n",
      "block5_conv2 (Conv2D)        (None, 14, 14, 512)       2359808   \n",
      "_________________________________________________________________\n",
      "block5_conv3 (Conv2D)        (None, 14, 14, 512)       2359808   \n",
      "_________________________________________________________________\n",
      "block5_pool (MaxPooling2D)   (None, 7, 7, 512)         0         \n",
      "_________________________________________________________________\n",
      "flatten (Flatten)            (None, 25088)             0         \n",
      "_________________________________________________________________\n",
      "fc1 (Dense)                  (None, 4096)              102764544 \n",
      "_________________________________________________________________\n",
      "fc2 (Dense)                  (None, 4096)              16781312  \n",
      "_________________________________________________________________\n",
      "predictions (Dense)          (None, 1000)              4097000   \n",
      "=================================================================\n",
      "Total params: 138,357,544\n",
      "Trainable params: 138,357,544\n",
      "Non-trainable params: 0\n",
      "_________________________________________________________________\n"
     ]
    }
   ],
   "source": [
    "vgg16_model.summary()"
   ]
  },
  {
   "cell_type": "code",
   "execution_count": 7,
   "id": "connected-torture",
   "metadata": {},
   "outputs": [
    {
     "data": {
      "text/plain": [
       "tensorflow.python.keras.engine.sequential.Sequential"
      ]
     },
     "execution_count": 7,
     "metadata": {},
     "output_type": "execute_result"
    }
   ],
   "source": [
    "model = Sequential()\n",
    "type(model)"
   ]
  },
  {
   "cell_type": "code",
   "execution_count": 8,
   "id": "other-serve",
   "metadata": {},
   "outputs": [
    {
     "name": "stdout",
     "output_type": "stream",
     "text": [
      "Model: \"sequential\"\n",
      "_________________________________________________________________\n",
      "Layer (type)                 Output Shape              Param #   \n",
      "=================================================================\n",
      "block1_conv1 (Conv2D)        (None, 224, 224, 64)      1792      \n",
      "_________________________________________________________________\n",
      "block1_conv2 (Conv2D)        (None, 224, 224, 64)      36928     \n",
      "_________________________________________________________________\n",
      "block1_pool (MaxPooling2D)   (None, 112, 112, 64)      0         \n",
      "_________________________________________________________________\n",
      "block2_conv1 (Conv2D)        (None, 112, 112, 128)     73856     \n",
      "_________________________________________________________________\n",
      "block2_conv2 (Conv2D)        (None, 112, 112, 128)     147584    \n",
      "_________________________________________________________________\n",
      "block2_pool (MaxPooling2D)   (None, 56, 56, 128)       0         \n",
      "_________________________________________________________________\n",
      "block3_conv1 (Conv2D)        (None, 56, 56, 256)       295168    \n",
      "_________________________________________________________________\n",
      "block3_conv2 (Conv2D)        (None, 56, 56, 256)       590080    \n",
      "_________________________________________________________________\n",
      "block3_conv3 (Conv2D)        (None, 56, 56, 256)       590080    \n",
      "_________________________________________________________________\n",
      "block3_pool (MaxPooling2D)   (None, 28, 28, 256)       0         \n",
      "_________________________________________________________________\n",
      "block4_conv1 (Conv2D)        (None, 28, 28, 512)       1180160   \n",
      "_________________________________________________________________\n",
      "block4_conv2 (Conv2D)        (None, 28, 28, 512)       2359808   \n",
      "_________________________________________________________________\n",
      "block4_conv3 (Conv2D)        (None, 28, 28, 512)       2359808   \n",
      "_________________________________________________________________\n",
      "block4_pool (MaxPooling2D)   (None, 14, 14, 512)       0         \n",
      "_________________________________________________________________\n",
      "block5_conv1 (Conv2D)        (None, 14, 14, 512)       2359808   \n",
      "_________________________________________________________________\n",
      "block5_conv2 (Conv2D)        (None, 14, 14, 512)       2359808   \n",
      "_________________________________________________________________\n",
      "block5_conv3 (Conv2D)        (None, 14, 14, 512)       2359808   \n",
      "_________________________________________________________________\n",
      "block5_pool (MaxPooling2D)   (None, 7, 7, 512)         0         \n",
      "_________________________________________________________________\n",
      "flatten (Flatten)            (None, 25088)             0         \n",
      "_________________________________________________________________\n",
      "fc1 (Dense)                  (None, 4096)              102764544 \n",
      "_________________________________________________________________\n",
      "fc2 (Dense)                  (None, 4096)              16781312  \n",
      "=================================================================\n",
      "Total params: 134,260,544\n",
      "Trainable params: 134,260,544\n",
      "Non-trainable params: 0\n",
      "_________________________________________________________________\n"
     ]
    }
   ],
   "source": [
    "for layer in vgg16_model.layers[:-1]:\n",
    "    model.add(layer)\n",
    "model.summary()"
   ]
  },
  {
   "cell_type": "code",
   "execution_count": 9,
   "id": "fresh-tiffany",
   "metadata": {},
   "outputs": [],
   "source": [
    "for layer in model.layers:\n",
    "    layer.trainable = False"
   ]
  },
  {
   "cell_type": "code",
   "execution_count": 10,
   "id": "separated-gathering",
   "metadata": {},
   "outputs": [],
   "source": [
    "model.add(Dense(units=2, activation='softmax'))"
   ]
  },
  {
   "cell_type": "code",
   "execution_count": 9,
   "id": "little-challenge",
   "metadata": {},
   "outputs": [
    {
     "name": "stdout",
     "output_type": "stream",
     "text": [
      "Model: \"sequential\"\n",
      "_________________________________________________________________\n",
      "Layer (type)                 Output Shape              Param #   \n",
      "=================================================================\n",
      "block1_conv1 (Conv2D)        (None, 224, 224, 64)      1792      \n",
      "_________________________________________________________________\n",
      "block1_conv2 (Conv2D)        (None, 224, 224, 64)      36928     \n",
      "_________________________________________________________________\n",
      "block1_pool (MaxPooling2D)   (None, 112, 112, 64)      0         \n",
      "_________________________________________________________________\n",
      "block2_conv1 (Conv2D)        (None, 112, 112, 128)     73856     \n",
      "_________________________________________________________________\n",
      "block2_conv2 (Conv2D)        (None, 112, 112, 128)     147584    \n",
      "_________________________________________________________________\n",
      "block2_pool (MaxPooling2D)   (None, 56, 56, 128)       0         \n",
      "_________________________________________________________________\n",
      "block3_conv1 (Conv2D)        (None, 56, 56, 256)       295168    \n",
      "_________________________________________________________________\n",
      "block3_conv2 (Conv2D)        (None, 56, 56, 256)       590080    \n",
      "_________________________________________________________________\n",
      "block3_conv3 (Conv2D)        (None, 56, 56, 256)       590080    \n",
      "_________________________________________________________________\n",
      "block3_pool (MaxPooling2D)   (None, 28, 28, 256)       0         \n",
      "_________________________________________________________________\n",
      "block4_conv1 (Conv2D)        (None, 28, 28, 512)       1180160   \n",
      "_________________________________________________________________\n",
      "block4_conv2 (Conv2D)        (None, 28, 28, 512)       2359808   \n",
      "_________________________________________________________________\n",
      "block4_conv3 (Conv2D)        (None, 28, 28, 512)       2359808   \n",
      "_________________________________________________________________\n",
      "block4_pool (MaxPooling2D)   (None, 14, 14, 512)       0         \n",
      "_________________________________________________________________\n",
      "block5_conv1 (Conv2D)        (None, 14, 14, 512)       2359808   \n",
      "_________________________________________________________________\n",
      "block5_conv2 (Conv2D)        (None, 14, 14, 512)       2359808   \n",
      "_________________________________________________________________\n",
      "block5_conv3 (Conv2D)        (None, 14, 14, 512)       2359808   \n",
      "_________________________________________________________________\n",
      "block5_pool (MaxPooling2D)   (None, 7, 7, 512)         0         \n",
      "_________________________________________________________________\n",
      "flatten (Flatten)            (None, 25088)             0         \n",
      "_________________________________________________________________\n",
      "fc1 (Dense)                  (None, 4096)              102764544 \n",
      "_________________________________________________________________\n",
      "fc2 (Dense)                  (None, 4096)              16781312  \n",
      "_________________________________________________________________\n",
      "dense (Dense)                (None, 2)                 8194      \n",
      "=================================================================\n",
      "Total params: 134,268,738\n",
      "Trainable params: 8,194\n",
      "Non-trainable params: 134,260,544\n",
      "_________________________________________________________________\n"
     ]
    }
   ],
   "source": [
    "model.summary()"
   ]
  },
  {
   "cell_type": "code",
   "execution_count": 11,
   "id": "married-accreditation",
   "metadata": {},
   "outputs": [],
   "source": [
    "model.compile(optimizer=Adam(learning_rate=0.0001), loss='categorical_crossentropy', metrics=['accuracy'])"
   ]
  },
  {
   "cell_type": "code",
   "execution_count": 12,
   "id": "selected-music",
   "metadata": {},
   "outputs": [],
   "source": [
    "import os.path\n",
    "if os.path.isfile('models/VGG16_2_trial_model.h5') is False:\n",
    "    model.save('models/VGG16_2_trial_model.h5')"
   ]
  },
  {
   "cell_type": "code",
   "execution_count": 12,
   "id": "respected-browse",
   "metadata": {},
   "outputs": [
    {
     "name": "stdout",
     "output_type": "stream",
     "text": [
      "Epoch 1/5\n",
      "100/100 - 401s - loss: 0.0282 - accuracy: 0.9950 - val_loss: 0.0436 - val_accuracy: 0.9900\n",
      "Epoch 2/5\n",
      "100/100 - 324s - loss: 0.0219 - accuracy: 0.9960 - val_loss: 0.0453 - val_accuracy: 0.9900\n",
      "Epoch 3/5\n",
      "100/100 - 327s - loss: 0.0170 - accuracy: 0.9970 - val_loss: 0.0427 - val_accuracy: 0.9850\n",
      "Epoch 4/5\n",
      "100/100 - 327s - loss: 0.0136 - accuracy: 0.9980 - val_loss: 0.0443 - val_accuracy: 0.9900\n",
      "Epoch 5/5\n",
      "100/100 - 302s - loss: 0.0117 - accuracy: 0.9990 - val_loss: 0.0427 - val_accuracy: 0.9850\n",
      "10/10 - 28s\n"
     ]
    },
    {
     "data": {
      "text/plain": [
       "array([[9.99976754e-01, 2.33032843e-05],\n",
       "       [9.99978781e-01, 2.12582709e-05],\n",
       "       [9.99965668e-01, 3.43416432e-05],\n",
       "       [9.99915242e-01, 8.47804768e-05],\n",
       "       [9.99999285e-01, 6.80462222e-07],\n",
       "       [9.99865651e-01, 1.34348506e-04],\n",
       "       [9.98876154e-01, 1.12378597e-03],\n",
       "       [9.99970317e-01, 2.96478811e-05],\n",
       "       [9.99993563e-01, 6.40288499e-06],\n",
       "       [1.00000000e+00, 1.19763079e-08],\n",
       "       [9.99677896e-01, 3.22060427e-04],\n",
       "       [9.99997258e-01, 2.71614135e-06],\n",
       "       [2.76572436e-01, 7.23427594e-01],\n",
       "       [9.99993682e-01, 6.25906205e-06],\n",
       "       [9.99699831e-01, 3.00240004e-04],\n",
       "       [9.95567501e-01, 4.43247752e-03],\n",
       "       [9.99339402e-01, 6.60623133e-04],\n",
       "       [9.99978423e-01, 2.16156150e-05],\n",
       "       [9.99132931e-01, 8.67051014e-04],\n",
       "       [9.99998093e-01, 1.89850789e-06],\n",
       "       [9.99527097e-01, 4.72951826e-04],\n",
       "       [9.99996066e-01, 3.91947560e-06],\n",
       "       [9.94594634e-01, 5.40533569e-03],\n",
       "       [9.99996662e-01, 3.39629491e-06],\n",
       "       [9.99475420e-01, 5.24572853e-04],\n",
       "       [9.94654536e-01, 5.34551730e-03],\n",
       "       [9.99758899e-01, 2.41084039e-04],\n",
       "       [9.99999166e-01, 8.27480847e-07],\n",
       "       [9.99962687e-01, 3.73244875e-05],\n",
       "       [9.99468863e-01, 5.31186815e-04],\n",
       "       [9.94875252e-01, 5.12472074e-03],\n",
       "       [9.99984264e-01, 1.57508966e-05],\n",
       "       [9.50598300e-01, 4.94016483e-02],\n",
       "       [9.23829079e-01, 7.61709437e-02],\n",
       "       [9.99951482e-01, 4.85610581e-05],\n",
       "       [9.99997139e-01, 2.87013563e-06],\n",
       "       [9.99943495e-01, 5.64500006e-05],\n",
       "       [9.99991655e-01, 8.37623611e-06],\n",
       "       [9.95317698e-01, 4.68238257e-03],\n",
       "       [9.99992371e-01, 7.67693473e-06],\n",
       "       [9.99891639e-01, 1.08360444e-04],\n",
       "       [9.99960184e-01, 3.98676057e-05],\n",
       "       [9.99720991e-01, 2.78980500e-04],\n",
       "       [9.99907851e-01, 9.21145838e-05],\n",
       "       [1.00000000e+00, 2.99598959e-08],\n",
       "       [9.98610377e-01, 1.38961128e-03],\n",
       "       [9.99997377e-01, 2.60000661e-06],\n",
       "       [9.99897122e-01, 1.02822887e-04],\n",
       "       [9.99533653e-01, 4.66316560e-04],\n",
       "       [9.99195993e-01, 8.04023119e-04],\n",
       "       [3.97808662e-06, 9.99996066e-01],\n",
       "       [8.74303572e-04, 9.99125659e-01],\n",
       "       [6.57174905e-06, 9.99993443e-01],\n",
       "       [3.02882429e-04, 9.99697089e-01],\n",
       "       [5.05704200e-03, 9.94942963e-01],\n",
       "       [2.21107533e-04, 9.99778926e-01],\n",
       "       [7.65594980e-03, 9.92344081e-01],\n",
       "       [3.55759903e-06, 9.99996424e-01],\n",
       "       [3.02307028e-03, 9.96976972e-01],\n",
       "       [5.54875936e-04, 9.99445140e-01],\n",
       "       [1.23033475e-03, 9.98769581e-01],\n",
       "       [7.51880289e-05, 9.99924779e-01],\n",
       "       [1.38464011e-05, 9.99986172e-01],\n",
       "       [1.09026572e-04, 9.99890924e-01],\n",
       "       [5.23837298e-06, 9.99994755e-01],\n",
       "       [2.68460903e-03, 9.97315347e-01],\n",
       "       [6.72417413e-03, 9.93275881e-01],\n",
       "       [6.61416561e-04, 9.99338567e-01],\n",
       "       [8.82742167e-01, 1.17257856e-01],\n",
       "       [6.82626793e-04, 9.99317408e-01],\n",
       "       [1.90073581e-04, 9.99809921e-01],\n",
       "       [1.69451945e-04, 9.99830484e-01],\n",
       "       [7.84595904e-05, 9.99921560e-01],\n",
       "       [8.62293411e-04, 9.99137640e-01],\n",
       "       [3.82495821e-01, 6.17504120e-01],\n",
       "       [1.26084837e-03, 9.98739183e-01],\n",
       "       [5.62294066e-01, 4.37705904e-01],\n",
       "       [1.90371304e-06, 9.99998093e-01],\n",
       "       [2.94668080e-05, 9.99970555e-01],\n",
       "       [5.74055267e-03, 9.94259477e-01],\n",
       "       [4.60214680e-04, 9.99539852e-01],\n",
       "       [8.48178566e-01, 1.51821420e-01],\n",
       "       [1.12585188e-03, 9.98874128e-01],\n",
       "       [1.45603390e-02, 9.85439599e-01],\n",
       "       [7.50451675e-03, 9.92495537e-01],\n",
       "       [6.66709035e-04, 9.99333322e-01],\n",
       "       [1.63337395e-01, 8.36662531e-01],\n",
       "       [4.18612544e-05, 9.99958158e-01],\n",
       "       [3.74386029e-04, 9.99625564e-01],\n",
       "       [2.43974268e-01, 7.56025791e-01],\n",
       "       [1.00270801e-04, 9.99899745e-01],\n",
       "       [5.06298500e-04, 9.99493718e-01],\n",
       "       [3.74441947e-06, 9.99996305e-01],\n",
       "       [1.02734438e-03, 9.98972654e-01],\n",
       "       [1.58690549e-02, 9.84130919e-01],\n",
       "       [5.13970554e-05, 9.99948621e-01],\n",
       "       [2.79952947e-05, 9.99971986e-01],\n",
       "       [2.97012593e-04, 9.99702990e-01],\n",
       "       [3.84785235e-02, 9.61521506e-01],\n",
       "       [3.41303501e-04, 9.99658704e-01]], dtype=float32)"
      ]
     },
     "execution_count": 12,
     "metadata": {},
     "output_type": "execute_result"
    }
   ],
   "source": [
    "model.fit(x=train_batches, validation_data=valid_batches, epochs=5, verbose=2)"
   ]
  },
  {
   "cell_type": "code",
   "execution_count": 1,
   "id": "weird-constraint",
   "metadata": {},
   "outputs": [
    {
     "ename": "NameError",
     "evalue": "name 'model' is not defined",
     "output_type": "error",
     "traceback": [
      "\u001b[1;31m---------------------------------------------------------------------------\u001b[0m",
      "\u001b[1;31mNameError\u001b[0m                                 Traceback (most recent call last)",
      "\u001b[1;32m<ipython-input-1-910d365d551e>\u001b[0m in \u001b[0;36m<module>\u001b[1;34m\u001b[0m\n\u001b[0;32m      1\u001b[0m \u001b[1;32mimport\u001b[0m \u001b[0mos\u001b[0m\u001b[1;33m.\u001b[0m\u001b[0mpath\u001b[0m\u001b[1;33m\u001b[0m\u001b[1;33m\u001b[0m\u001b[0m\n\u001b[0;32m      2\u001b[0m \u001b[1;32mif\u001b[0m \u001b[0mos\u001b[0m\u001b[1;33m.\u001b[0m\u001b[0mpath\u001b[0m\u001b[1;33m.\u001b[0m\u001b[0misfile\u001b[0m\u001b[1;33m(\u001b[0m\u001b[1;34m'models/VGG16_2_trial_model.h5'\u001b[0m\u001b[1;33m)\u001b[0m \u001b[1;32mis\u001b[0m \u001b[1;32mFalse\u001b[0m\u001b[1;33m:\u001b[0m\u001b[1;33m\u001b[0m\u001b[1;33m\u001b[0m\u001b[0m\n\u001b[1;32m----> 3\u001b[1;33m     \u001b[0mmodel\u001b[0m\u001b[1;33m.\u001b[0m\u001b[0msave\u001b[0m\u001b[1;33m(\u001b[0m\u001b[1;34m'models/VGG16_2_trial_model.h5'\u001b[0m\u001b[1;33m)\u001b[0m\u001b[1;33m\u001b[0m\u001b[1;33m\u001b[0m\u001b[0m\n\u001b[0m",
      "\u001b[1;31mNameError\u001b[0m: name 'model' is not defined"
     ]
    }
   ],
   "source": [
    "import os.path\n",
    "if os.path.isfile('models/VGG16_2_trial_model.h5') is False:\n",
    "    model.save('models/VGG16_2_trial_model.h5')"
   ]
  },
  {
   "cell_type": "code",
   "execution_count": 13,
   "id": "exposed-forwarding",
   "metadata": {},
   "outputs": [
    {
     "name": "stdout",
     "output_type": "stream",
     "text": [
      "10/10 - 19s\n"
     ]
    }
   ],
   "source": [
    "predictions = model.predict(x=test_batches, verbose = 2)"
   ]
  },
  {
   "cell_type": "code",
   "execution_count": 15,
   "id": "cheap-friendship",
   "metadata": {},
   "outputs": [
    {
     "data": {
      "text/plain": [
       "array([0, 0, 0, 0, 0, 0, 0, 0, 0, 0, 0, 0, 0, 0, 0, 0, 0, 0, 0, 0, 0, 0,\n",
       "       0, 0, 0, 0, 0, 0, 0, 0, 0, 0, 0, 0, 0, 0, 0, 0, 0, 0, 0, 0, 0, 0,\n",
       "       0, 0, 0, 0, 0, 0, 1, 1, 1, 1, 1, 1, 1, 1, 1, 1, 1, 1, 1, 1, 1, 1,\n",
       "       1, 1, 1, 1, 1, 1, 1, 1, 1, 1, 1, 1, 1, 1, 1, 1, 1, 1, 1, 1, 1, 1,\n",
       "       1, 1, 1, 1, 1, 1, 1, 1, 1, 1, 1, 1])"
      ]
     },
     "execution_count": 15,
     "metadata": {},
     "output_type": "execute_result"
    }
   ],
   "source": [
    "test_batches.classes"
   ]
  },
  {
   "cell_type": "code",
   "execution_count": 28,
   "id": "transparent-pacific",
   "metadata": {},
   "outputs": [
    {
     "name": "stdout",
     "output_type": "stream",
     "text": [
      "98.0 %\n"
     ]
    }
   ],
   "source": [
    "#Accuracy on test set\n",
    "correct = 0\n",
    "for i in range(50):\n",
    "    #print(predictions[i][0], test_batches.classes[i])\n",
    "    if predictions[i][0] >= 0.5 and test_batches.classes[i] == 0:\n",
    "        correct+=1\n",
    "    elif predictions[i][1] >= 0.5 and test_batches.classes[i] == 1:\n",
    "        correct+=1\n",
    "print(correct*100/50, \"%\")    "
   ]
  }
 ],
 "metadata": {
  "kernelspec": {
   "display_name": "Python 3",
   "language": "python",
   "name": "python3"
  },
  "language_info": {
   "codemirror_mode": {
    "name": "ipython",
    "version": 3
   },
   "file_extension": ".py",
   "mimetype": "text/x-python",
   "name": "python",
   "nbconvert_exporter": "python",
   "pygments_lexer": "ipython3",
   "version": "3.8.8"
  }
 },
 "nbformat": 4,
 "nbformat_minor": 5
}
